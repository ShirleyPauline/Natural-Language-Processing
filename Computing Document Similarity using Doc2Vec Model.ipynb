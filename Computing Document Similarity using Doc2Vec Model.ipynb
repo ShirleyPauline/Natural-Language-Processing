{
 "cells": [
  {
   "cell_type": "markdown",
   "metadata": {},
   "source": [
    "## Computing Document Similarity using Doc2Vec Model"
   ]
  },
  {
   "cell_type": "code",
   "execution_count": 27,
   "metadata": {},
   "outputs": [],
   "source": [
    "import warnings\n",
    "warnings.filterwarnings('ignore')"
   ]
  },
  {
   "cell_type": "markdown",
   "metadata": {
    "id": "Mu0MXKtrqMi1"
   },
   "source": [
    "### EXERCISE-1"
   ]
  },
  {
   "cell_type": "markdown",
   "metadata": {
    "id": "S7mTeCElqNxb"
   },
   "source": [
    "### 1.Import dependencies"
   ]
  },
  {
   "cell_type": "code",
   "execution_count": 28,
   "metadata": {
    "id": "F1Qzv46cqV09"
   },
   "outputs": [],
   "source": [
    "from gensim.models.doc2vec import Doc2Vec, TaggedDocument"
   ]
  },
  {
   "cell_type": "code",
   "execution_count": 29,
   "metadata": {
    "id": "CArLjojWqbQO"
   },
   "outputs": [],
   "source": [
    "from nltk.tokenize import word_tokenize"
   ]
  },
  {
   "cell_type": "code",
   "execution_count": 30,
   "metadata": {
    "id": "4xsYcAZbqidz"
   },
   "outputs": [],
   "source": [
    "from sklearn import utils"
   ]
  },
  {
   "cell_type": "markdown",
   "metadata": {
    "id": "i_mRc1xUqgdT"
   },
   "source": [
    "### 2.Create dataset"
   ]
  },
  {
   "cell_type": "code",
   "execution_count": 31,
   "metadata": {
    "id": "VZqbyYeYqhgj"
   },
   "outputs": [],
   "source": [
    "data = [\"I love machine learning. Its awesome.\",\n",
    "        \"I love coding in python\",\n",
    "        \"I love building chatbots\",\n",
    "        \"they chat amazingly well\"]"
   ]
  },
  {
   "cell_type": "code",
   "execution_count": 32,
   "metadata": {
    "colab": {
     "base_uri": "https://localhost:8080/"
    },
    "id": "j13NdobgvFiJ",
    "outputId": "42bf6062-1212-43f5-8a0a-866f20ac8699"
   },
   "outputs": [
    {
     "name": "stderr",
     "output_type": "stream",
     "text": [
      "[nltk_data] Downloading package punkt to\n",
      "[nltk_data]     C:\\Users\\shirl\\AppData\\Roaming\\nltk_data...\n",
      "[nltk_data]   Package punkt is already up-to-date!\n"
     ]
    },
    {
     "data": {
      "text/plain": [
       "True"
      ]
     },
     "execution_count": 32,
     "metadata": {},
     "output_type": "execute_result"
    }
   ],
   "source": [
    "import nltk\n",
    "nltk.download('punkt')"
   ]
  },
  {
   "cell_type": "markdown",
   "metadata": {
    "id": "oOdQGtKbrihO"
   },
   "source": [
    "### 3.Create TaggedDocument"
   ]
  },
  {
   "cell_type": "code",
   "execution_count": 33,
   "metadata": {
    "id": "8yf8iaShrqTM"
   },
   "outputs": [],
   "source": [
    "tagged_data = [TaggedDocument(words=word_tokenize(d.lower()),\n",
    "                              tags=[str(i)]) for i, d in enumerate(data)]"
   ]
  },
  {
   "cell_type": "markdown",
   "metadata": {
    "id": "2Kb3rOZ_sn54"
   },
   "source": [
    "### 4.Train Model"
   ]
  },
  {
   "cell_type": "code",
   "execution_count": 34,
   "metadata": {
    "id": "uESts5pIsqDQ"
   },
   "outputs": [],
   "source": [
    "# model parameters\n",
    "vec_size = 20\n",
    "alpha = 0.025"
   ]
  },
  {
   "cell_type": "code",
   "execution_count": 35,
   "metadata": {
    "id": "6tqd6p2Rs3nH"
   },
   "outputs": [],
   "source": [
    "# create model\n",
    "model = Doc2Vec(vector_size=vec_size,\n",
    "                alpha=alpha,\n",
    "                min_alpha=0.00025,\n",
    "                min_count=1,\n",
    "                dm=1)"
   ]
  },
  {
   "cell_type": "code",
   "execution_count": 36,
   "metadata": {
    "id": "Ttf8p-zytP7v"
   },
   "outputs": [],
   "source": [
    "# build vocabulary\n",
    "model.build_vocab(tagged_data)"
   ]
  },
  {
   "cell_type": "code",
   "execution_count": 37,
   "metadata": {
    "id": "sLMPOsQOtpAW"
   },
   "outputs": [],
   "source": [
    "# shuffle data\n",
    "tagged_data = utils.shuffle(tagged_data)"
   ]
  },
  {
   "cell_type": "code",
   "execution_count": 38,
   "metadata": {
    "id": "1ZHoSLm2txbG"
   },
   "outputs": [],
   "source": [
    "# train Doc2Vec model\n",
    "model.train(tagged_data,\n",
    "            total_examples=model.corpus_count,\n",
    "            epochs=30)"
   ]
  },
  {
   "cell_type": "code",
   "execution_count": 39,
   "metadata": {
    "colab": {
     "base_uri": "https://localhost:8080/"
    },
    "id": "zSG3Swo2uCqu",
    "outputId": "1525a1ff-36a9-461f-d234-694d5c94bf8f"
   },
   "outputs": [
    {
     "name": "stdout",
     "output_type": "stream",
     "text": [
      "Model Saved\n"
     ]
    }
   ],
   "source": [
    "model.save(\"d2v.model\")\n",
    "print(\"Model Saved\")"
   ]
  },
  {
   "cell_type": "markdown",
   "metadata": {
    "id": "Mn6J-Xzfvhew"
   },
   "source": [
    "### 5.Find Similar documents for the given document"
   ]
  },
  {
   "cell_type": "code",
   "execution_count": 40,
   "metadata": {
    "id": "582jyqpSuVGE"
   },
   "outputs": [],
   "source": [
    "from gensim.models.doc2vec import Doc2Vec"
   ]
  },
  {
   "cell_type": "code",
   "execution_count": 41,
   "metadata": {
    "id": "YGDlbn6rwBQa"
   },
   "outputs": [],
   "source": [
    "model = Doc2Vec.load('d2v.model')"
   ]
  },
  {
   "cell_type": "code",
   "execution_count": 42,
   "metadata": {
    "colab": {
     "base_uri": "https://localhost:8080/"
    },
    "id": "EzrN8wNSwIa_",
    "outputId": "9cef9f14-97dc-4fb2-c070-973fe5122a3d"
   },
   "outputs": [
    {
     "name": "stdout",
     "output_type": "stream",
     "text": [
      "V1_infer [ 0.01912867 -0.01765504  0.01510629  0.01799483 -0.00892928  0.00998703\n",
      " -0.00090134  0.01546164 -0.02002329  0.02377238 -0.00724893 -0.00405359\n",
      " -0.00414919  0.02146302 -0.02229237  0.00507969 -0.00810554 -0.00867667\n",
      " -0.00991263  0.02451484]\n"
     ]
    }
   ],
   "source": [
    "# to find the vector of a document which is not in training data\n",
    "test_data = word_tokenize(\"I love chatbots\".lower())\n",
    "v1 = model.infer_vector(test_data)\n",
    "print(\"V1_infer\",v1)"
   ]
  },
  {
   "cell_type": "code",
   "execution_count": 43,
   "metadata": {
    "colab": {
     "base_uri": "https://localhost:8080/"
    },
    "id": "FwO3YVbwwm2W",
    "outputId": "e709be3b-a4f8-47fe-f29d-07ffc48ebf40"
   },
   "outputs": [
    {
     "name": "stdout",
     "output_type": "stream",
     "text": [
      "[('2', 0.3256344795227051), ('0', 0.2736329436302185), ('3', 0.2126191258430481)]\n"
     ]
    }
   ],
   "source": [
    "# to find most similar doc using tags\n",
    "similar_doc = model.docvecs.most_similar('1')\n",
    "print(similar_doc)"
   ]
  },
  {
   "cell_type": "code",
   "execution_count": 44,
   "metadata": {
    "colab": {
     "base_uri": "https://localhost:8080/"
    },
    "id": "VY0ho5tlw6we",
    "outputId": "e8e54b89-d4f1-4339-8155-c1deedf44449"
   },
   "outputs": [
    {
     "name": "stdout",
     "output_type": "stream",
     "text": [
      "[-0.01904064  0.01291113 -0.02862327  0.01310186  0.02923953 -0.04078041\n",
      " -0.04189338 -0.0500794   0.02472007 -0.04591568  0.02931122  0.03417829\n",
      " -0.03288323 -0.02290827 -0.00638708  0.00833787 -0.0074406  -0.04273077\n",
      " -0.01832722  0.00885403]\n"
     ]
    }
   ],
   "source": [
    "# to find vector of doc in training data using tags or\n",
    "# in other words, printing the vector of document at index 1 in training data\n",
    "print(model.docvecs['1'])"
   ]
  },
  {
   "cell_type": "markdown",
   "metadata": {
    "id": "V-xOakyhxu--"
   },
   "source": [
    "### EXERCISE-2"
   ]
  },
  {
   "cell_type": "markdown",
   "metadata": {
    "id": "Iqt_ZZdEyC3F"
   },
   "source": [
    "### Question1. Train the following documents using Doc2Vec model"
   ]
  },
  {
   "cell_type": "code",
   "execution_count": 45,
   "metadata": {
    "id": "gxPLfihtzxV4"
   },
   "outputs": [],
   "source": [
    "docs = [\"the house had a tiny little mouse\",\n",
    "        \"the cat saw the mouse\",\n",
    "        \"the mouse ran away from the house\",\n",
    "        \"the cat finally ate the mouse\",\n",
    "        \"the end of the mouse story\"]"
   ]
  },
  {
   "cell_type": "markdown",
   "metadata": {
    "id": "jQu3G4GUzerY"
   },
   "source": [
    "### Question2. Find the most similar TWO documents for the query document \"cat stayed in the house\"."
   ]
  },
  {
   "cell_type": "code",
   "execution_count": 46,
   "metadata": {
    "id": "SwPD4LaG0I4X"
   },
   "outputs": [
    {
     "name": "stdout",
     "output_type": "stream",
     "text": [
      "v1_infer [-0.01588836 -0.01788474 -0.0145947   0.01575964 -0.01147471 -0.01840468\n",
      " -0.00824837 -0.02024175 -0.0197826  -0.00048647  0.01636968  0.01537332\n",
      "  0.01926726 -0.00716028 -0.0037462   0.0159885  -0.00883282  0.02255341\n",
      "  0.00963103 -0.02159291]\n",
      "[('3', 0.33215874433517456), ('1', 0.32563456892967224), ('0', -0.10534212738275528)]\n",
      "[-1.0793915e-02 -3.6800183e-02  2.0387791e-02 -4.2787164e-02\n",
      "  1.4085785e-02 -2.3475422e-02  2.5354682e-03 -1.0975582e-02\n",
      "  2.6901973e-02 -4.0534161e-02 -1.0368363e-02 -9.6229851e-05\n",
      " -3.4025688e-02 -3.3354104e-02 -9.9996375e-03  4.4075567e-02\n",
      " -6.2743672e-03  1.8161051e-02 -2.9713351e-02  4.4486530e-02]\n"
     ]
    }
   ],
   "source": [
    "from gensim.models.doc2vec import Doc2Vec\n",
    "model=Doc2Vec.load(\"d2v.model\")\n",
    "#to find the vector of a document which is not in training data\n",
    "test_data=word_tokenize(\"cat stayed in the house\".lower())\n",
    "v1=model.infer_vector(test_data)\n",
    "print(\"v1_infer\",v1)\n",
    "#to find most similar doc using tags\n",
    "similar_doc=model.dv.most_similar('2')\n",
    "print(similar_doc)\n",
    "#to find vector of doc in training data using tags\n",
    "print(model.dv[\"2\"])"
   ]
  },
  {
   "cell_type": "code",
   "execution_count": null,
   "metadata": {},
   "outputs": [],
   "source": []
  }
 ],
 "metadata": {
  "colab": {
   "provenance": []
  },
  "kernelspec": {
   "display_name": "Python 3 (ipykernel)",
   "language": "python",
   "name": "python3"
  },
  "language_info": {
   "codemirror_mode": {
    "name": "ipython",
    "version": 3
   },
   "file_extension": ".py",
   "mimetype": "text/x-python",
   "name": "python",
   "nbconvert_exporter": "python",
   "pygments_lexer": "ipython3",
   "version": "3.9.12"
  }
 },
 "nbformat": 4,
 "nbformat_minor": 1
}
